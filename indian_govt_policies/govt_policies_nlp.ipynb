{
 "cells": [
  {
   "cell_type": "code",
   "execution_count": 1,
   "id": "e47e0a85-52cd-493f-922e-03bec946226d",
   "metadata": {},
   "outputs": [],
   "source": [
    "import pandas as pd\n",
    "\n",
    "df = pd.read_csv(r\"C:\\Policies\\indian_govt_schemes.csv\")\n",
    "\n",
    "df['text_for_nlp'] = (\n",
    "    df['scheme_name'].astype(str) + \". \" +\n",
    "    df['details'].astype(str) + \". \" +\n",
    "    df['benefits'].astype(str) + \". \" +\n",
    "    df['eligibility'].astype(str) + \". \" +\n",
    "    df['application'].astype(str) + \". \" +\n",
    "    df['documents'].astype(str) \n",
    ").str.lower()"
   ]
  },
  {
   "cell_type": "code",
   "execution_count": 2,
   "id": "46a7808b-a223-4742-b5ee-750a5543a0ea",
   "metadata": {},
   "outputs": [
    {
     "data": {
      "text/plain": [
       "['scheme_tfidf_matrix.pkl']"
      ]
     },
     "execution_count": 2,
     "metadata": {},
     "output_type": "execute_result"
    }
   ],
   "source": [
    "from sklearn.feature_extraction.text import TfidfVectorizer\n",
    "import joblib\n",
    "\n",
    "vectorizer = TfidfVectorizer(stop_words=\"english\")\n",
    "tfidf_matrix = vectorizer.fit_transform(df[\"text_for_nlp\"])\n",
    "\n",
    "joblib.dump(vectorizer, \"scheme_vectorizer.pkl\")\n",
    "joblib.dump({\"matrix\": tfidf_matrix, \"df\": df}, \"scheme_tfidf_matrix.pkl\")"
   ]
  },
  {
   "cell_type": "code",
   "execution_count": 4,
   "id": "9bf8d46b-24cd-4a9b-a158-fbcf84f92a39",
   "metadata": {},
   "outputs": [
    {
     "name": "stdout",
     "output_type": "stream",
     "text": [
      "1. Pre-matric Scholarship For SC Students - Uttarakhand | 0.54\n",
      "   Benefits: Students of Classes 1 - 5 will receive Rs. 600/- per annum. Students of Classes 6 - 8 will receive Rs. 960/- per annum. Day scholar students of Classes 9 - 10 will receive Rs. 3,000/- per annum. Hostel living students of Classes 9 - 10 will receive Rs. 6,250/- per annum.\n",
      "   Eligibility: The applicant students should be a resident of Uttarakhand state. The applicant students should belong to the Scheduled Caste Category. The applicant students should be studying in a recognized school/institution in the state. The applicant students must have passed the previous year's examination. The Applicant students should not be studying in more than one school in the same academic year. Scholarship applicants should make sure that the name in the scholarship application, the name mentioned in Aadhaar and the name mentioned in the bank account are the same. It is necessary for the applicant student to give his or her guardian's mobile number. The mobile number mentioned in the scholarship application by the student or his/her guardian can be mentioned in the application form by more than one student of the same family.\n",
      "\n",
      "2. Award of Adhoc Merit Grant (Special Incentive) to Scheduled Caste Students | 0.45\n",
      "   Benefits: Under this scheme, a one-time cash award of ₹1,000/- will be given to the Scheduled Caste students who secure 65% or above marks in matriculation/SSLC Board of Examinations.\n",
      "   Eligibility: All the students belonging to the Scheduled Caste who secured 65% and above marks in the 10th Standard/Matriculation/SSLC Board of Examination shall be eligible for the award. The student should be a permanent resident of the Union Territory of Puducherry by virtue of birth or continuous residence in the Union Territory of Puducherry for not less than five years. The student should pursue his/her higher studies in a recognized university/college/institution. The grant will be given irrespective of the income limit of the parent/guardian of the students and the age of the students.\n",
      "\n",
      "3. Grant Of Retention Scholarship to Scheduled Caste Girl Students | 0.43\n",
      "   Benefits: The scholarship shall be granted for 10 months in an academic year at the following rates: Under this scheme, ₹1,000/- per year to girl students studying from I to V Standard i.e. (₹100/- per month per girl student for 10 months in an academic year). Note 01: The benefit of this scheme will be available only to bonafide students so long as they continue their studies satisfactorily in the recognized institutions of the Union Territory of Puducherry. Note 02: A student shall be deemed to be continuing her studies satisfactorily if she secures promotion to the next higher class annually.\n",
      "   Eligibility: All the Scheduled Caste Girls Students of the Union Territory of Puducherry are eligible for the scholarship. The concession envisaged under the scheme will be granted to Scheduled Caste Girls Students who are native of the Union Territory of Puducherry or are residing in the Union Territory of Puducherry for a continuous period of not less than five years. The concession will be granted to the Scheduled Caste Girls Students studying from I Standard to V Standard either in Government or private recognized educational institutions. Annual income of the parent guardian shall not exceed ₹24000/-. Other conditions for the scholarship: Students who are granted the scholarships will be allowed to retain them till they complete that primary education. The scholarship will be cancelled for any misconduct on the part of the scholar. If a candidate is found to have obtained a scholarship by false statement, her scholarship will be cancelled and the amount of scholarship paid will be recovered at the discretion of the Sanctioning Authority.\n",
      "\n"
     ]
    }
   ],
   "source": [
    "from sklearn.metrics.pairwise import cosine_similarity\n",
    "import joblib\n",
    "\n",
    "vectorizer = joblib.load(\"scheme_vectorizer.pkl\")\n",
    "data = joblib.load(\"scheme_tfidf_matrix.pkl\")\n",
    "tfidf_matrix = data[\"matrix\"]\n",
    "df = data[\"df\"]\n",
    "\n",
    "def query_scheme(question, top_k=3):\n",
    "    query_vec = vectorizer.transform([question.lower()])\n",
    "    sims = cosine_similarity(query_vec, tfidf_matrix).flatten()\n",
    "    top_idx = sims.argsort()[::-1][:top_k]\n",
    "    \n",
    "    results = []\n",
    "    for idx in top_idx:\n",
    "        row = df.iloc[idx]\n",
    "        results.append({\n",
    "            \"scheme_name\": row[\"scheme_name\"],\n",
    "            \"benefits\": row[\"benefits\"],\n",
    "            \"eligibility\": row[\"eligibility\"],\n",
    "            \"similarity\": float(sims[idx])\n",
    "        })\n",
    "    return results\n",
    "\n",
    "# Example\n",
    "question = \"scholartship for students\"\n",
    "for i, res in enumerate(query_scheme(question, top_k=3), 1):\n",
    "    print(f\"{i}. {res['scheme_name']} | {res['similarity']:.2f}\")\n",
    "    print(f\"   Benefits: {res['benefits']}\")\n",
    "    print(f\"   Eligibility: {res['eligibility']}\\n\")\n"
   ]
  },
  {
   "cell_type": "code",
   "execution_count": null,
   "id": "4f148b4f-2e0a-4c53-ba9e-52fe06eacf7b",
   "metadata": {},
   "outputs": [],
   "source": []
  }
 ],
 "metadata": {
  "kernelspec": {
   "display_name": "Python 3 (ipykernel)",
   "language": "python",
   "name": "python3"
  },
  "language_info": {
   "codemirror_mode": {
    "name": "ipython",
    "version": 3
   },
   "file_extension": ".py",
   "mimetype": "text/x-python",
   "name": "python",
   "nbconvert_exporter": "python",
   "pygments_lexer": "ipython3",
   "version": "3.13.5"
  }
 },
 "nbformat": 4,
 "nbformat_minor": 5
}
